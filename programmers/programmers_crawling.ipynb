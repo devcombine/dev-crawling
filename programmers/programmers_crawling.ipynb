{
 "cells": [
  {
   "cell_type": "markdown",
   "id": "a5dab0c8",
   "metadata": {},
   "source": [
    "# 프로그래머스 크롤링\n",
    "***\n",
    "link : https://school.programmers.co.kr/learn?page=1\n",
    "절차 :\n",
    "\n",
    "1. 태그 수집 작업 : 필터의 체크박스를 선택하고, 선택했을 때 나오는 강의의 태그에 체크박스 항목명을 추가한다.\n",
    "    - Python 체크박스 클릭, Python 강의의 tags에 Python 추가\n",
    "2. 전체 강의의 데이터 수집 : 전체항목 페이지에서 페이지를 넘겨가며 항목의 상세 데이터를 가져온다.\n"
   ]
  },
  {
   "cell_type": "code",
   "execution_count": null,
   "id": "27222aeb",
   "metadata": {},
   "outputs": [],
   "source": [
    "%pip install selenium webdriver_manager"
   ]
  },
  {
   "cell_type": "code",
   "execution_count": 83,
   "id": "ccc61cdd",
   "metadata": {},
   "outputs": [],
   "source": [
    "# 라이브러리 불러오기\n",
    "from selenium import webdriver\n",
    "from selenium.webdriver.chrome.service import Service\n",
    "from selenium.webdriver.common.by import By\n",
    "from webdriver_manager.chrome import ChromeDriverManager\n",
    "from selenium.common.exceptions import NoSuchElementException\n",
    "from collections import defaultdict\n",
    "import time\n",
    "import csv"
   ]
  },
  {
   "cell_type": "markdown",
   "id": "bf6d544f",
   "metadata": {},
   "source": [
    "## 1. 강의에 대한 태그 수집"
   ]
  },
  {
   "cell_type": "code",
   "execution_count": 102,
   "id": "3cbef3c7",
   "metadata": {},
   "outputs": [],
   "source": [
    "# 강의의 태그를 설정하기 위한 dict 선언\n",
    "# 강의 : [태그 리스트]\n",
    "courses = defaultdict(set)\n",
    "\n",
    "with webdriver.Chrome(service=Service(ChromeDriverManager().install())) as driver:\n",
    "    driver.get(\"https://school.programmers.co.kr/learn\")\n",
    "    \n",
    "    # 더보기 버튼 클릭\n",
    "    more_btn = driver.find_element(By.XPATH, '//*[@id=\"edu-service-app-main\"]/div/div[2]/div/div/section[1]/div/div[2]/div[1]/div/div/button')\n",
    "    more_btn.click()\n",
    "    \n",
    "    # 체크박스리스트 가져오기 (section1 : 언어, section2 : 난이도)\n",
    "    lang_ul = driver.find_element(By.XPATH, '//*[@id=\"edu-service-app-main\"]/div/div[2]/div/div/section[1]/div/div[2]/div[1]/div/div/ul')\n",
    "    level_ul = driver.find_element(By.XPATH, '//*[@id=\"edu-service-app-main\"]/div/div[2]/div/div/section[1]/div/div[2]/div[2]/div/div/ul')\n",
    "    \n",
    "    for i, ul in enumerate([lang_ul, level_ul]):\n",
    "        ui_id = i + 1\n",
    "        checkboxes = []\n",
    "        for i in range(1, len(ul.find_elements(By.TAG_NAME, \"li\")) + 1):       \n",
    "            checkbox = driver.find_element(By.XPATH, f'//*[@id=\"edu-service-app-main\"]/div/div[2]/div/div/section[1]/div/div[2]/div[{ui_id}]/div/div/ul/li[{i}]/label')\n",
    "            checkboxes.append(checkbox)\n",
    "\n",
    "        # 하나씩 클릭하면서 가져오기\n",
    "        for checkbox in checkboxes:\n",
    "            \n",
    "            # 체크하기\n",
    "            checkbox.click()\n",
    "            time.sleep(1)\n",
    "\n",
    "            # 현재 체크한 항목명(tag) 가져오기\n",
    "            tag = checkbox.text.lower()\n",
    "            if ui_id == 2:\n",
    "                tag = tag[:3].strip() # 부제목 잘라주기\n",
    "\n",
    "            # 페이지별로 탐색\n",
    "            i = 1\n",
    "            while True:  \n",
    "                i += 1\n",
    "                time.sleep(2)\n",
    "\n",
    "                # 강의 없으면 패스\n",
    "                try:\n",
    "                    driver.find_element(By.XPATH, '//*[@id=\"edu-service-app-main\"]/div/div[2]/div/div/div')\n",
    "                    break\n",
    "                except NoSuchElementException:\n",
    "                    \n",
    "                    # 강의 섹션\n",
    "                    section = driver.find_element(By.XPATH, '//*[@id=\"edu-service-app-main\"]/div/div[2]/div/div/section[2]')\n",
    "                    for si in range(1, len(section.find_elements(By.TAG_NAME, \"a\")) + 1):\n",
    "                        course_title = driver.find_element(By.XPATH, f'//*[@id=\"edu-service-app-main\"]/div/div[2]/div/div/section[2]/a[{si}]/div[2]/div[1]/h3').text\n",
    "                        courses[course_title].add(tag)\n",
    "\n",
    "                    # 다음 페이지 없으면 나가기\n",
    "                    next_btn = driver.find_element(By.XPATH, '//*[@id=\"edu-service-app-main\"]/div/div[2]/div/div/section[2]/div/button[3]')\n",
    "                    if not next_btn.is_enabled():\n",
    "                        break\n",
    "                    else:\n",
    "                        next_btn.click()\n",
    "\n",
    "            # 체크 없애기\n",
    "            checkbox.click()\n",
    "            time.sleep(2)                    "
   ]
  },
  {
   "cell_type": "markdown",
   "id": "db08c58a",
   "metadata": {},
   "source": [
    "### 태그 수집 확인"
   ]
  },
  {
   "cell_type": "code",
   "execution_count": 100,
   "id": "351b0656",
   "metadata": {},
   "outputs": [
    {
     "name": "stdout",
     "output_type": "stream",
     "text": [
      "78\n"
     ]
    }
   ],
   "source": [
    "print(len(courses))\n"
   ]
  },
  {
   "cell_type": "markdown",
   "id": "20d41786",
   "metadata": {},
   "source": [
    "## 2. 전체 강의 가져오기 (CSV 파일로 쓰기)"
   ]
  },
  {
   "cell_type": "code",
   "execution_count": null,
   "id": "18882251",
   "metadata": {},
   "outputs": [],
   "source": [
    "with webdriver.Chrome(service=Service(ChromeDriverManager().install())) as driver:\n",
    "    # 파일 쓰기\n",
    "    f = open(r'programmers3.csv', 'w', encoding='UTF-8')\n",
    "    cssWriter = csv.writer(f)\n",
    "    cssWriter.writerow([\"title\",\"instructor\",\"description\",\"site\",\"url\",\"price\", \"rating\", \"thumbnail_url\", \"enrollment_count\",\"tags\"])\n",
    "    \n",
    "    # 프로그래머스 접속\n",
    "    driver.get(\"https://school.programmers.co.kr/learn\") \n",
    "\n",
    "    # 페이지별로 탐색\n",
    "    while True:\n",
    "        \n",
    "        # 강의 섹션\n",
    "        section = driver.find_element(By.XPATH, '//*[@id=\"edu-service-app-main\"]/div/div[2]/div/div/section[2]')\n",
    "        for si in range(1, len(section.find_elements(By.TAG_NAME, \"a\")) + 1):\n",
    "            \n",
    "            # 모집 마감 제외\n",
    "            try:\n",
    "                badge = driver.find_element(By.XPATH, f'//*[@id=\"edu-service-app-main\"]/div/div[2]/div/div/section[2]/a[{si}]/div[2]/div[1]/div/span')\n",
    "                if badge.text == '모집 마감':\n",
    "                    continue\n",
    "            except NoSuchElementException:\n",
    "                badge = None\n",
    "            course_btn = driver.find_element(By.XPATH, f'//*[@id=\"edu-service-app-main\"]/div/div[2]/div/div/section[2]/a[{si}]')\n",
    "            title = driver.find_element(By.XPATH, f'//*[@id=\"edu-service-app-main\"]/div/div[2]/div/div/section[2]/a[{si}]/div[2]/div[1]/h3').text\n",
    "\n",
    "            # 기본 강의정보 수집\n",
    "            try:\n",
    "                price = driver.find_element(By.XPATH, f'//*[@id=\"edu-service-app-main\"]/div/div[2]/div/div/section[2]/a[{si}]/div[2]/div[2]/div[1]/strong').text\n",
    "                price = price.replace(\"₩\", \"\").replace(\",\", \"\")\n",
    "                price = '0' if price == \"무료\" else price\n",
    "            except NoSuchElementException:\n",
    "                price = None\n",
    "            try:\n",
    "                thumbnail_url = driver.find_element(By.XPATH, f'//*[@id=\"edu-service-app-main\"]/div/div[2]/div/div/section[2]/a[{si}]/div[1]/img').get_attribute(\"src\")\n",
    "            except NoSuchElementException:\n",
    "                thumbnail_url = None\n",
    "            try:\n",
    "                url = driver.find_element(By.XPATH, f'//*[@id=\"edu-service-app-main\"]/div/div[2]/div/div/section[2]/a[{si}]').get_attribute(\"href\")\n",
    "            except NoSuchElementException:\n",
    "                url = None\n",
    "            try:\n",
    "                rating = driver.find_element(By.XPATH, f'//*[@id=\"edu-service-app-main\"]/div/div[2]/div/div/section[2]/a[{si}]/div[2]/div[2]/div[2]').text\n",
    "            except NoSuchElementException:\n",
    "                rating = None\n",
    "            \n",
    "            # 상세 강의정보 수집\n",
    "            course_btn.click()\n",
    "            driver.implicitly_wait(3)\n",
    "            \n",
    "            # 수강생 수\n",
    "            enrollment_count = None\n",
    "            ul = driver.find_element(By.XPATH, '//*[@id=\"overview-fixed-menu\"]/div/ul')\n",
    "            for li in ul.find_elements(By.TAG_NAME, \"li\"):\n",
    "                if '명' in li.text:\n",
    "                    enrollment_count = int(li.text[:li.text.index('명')].replace(',', ''))\n",
    "                    break\n",
    "            # 강사\n",
    "            try:\n",
    "                instructor = driver.find_element(By.CLASS_NAME, \"name\").text\n",
    "            except NoSuchElementException:\n",
    "                instructor = None\n",
    "            \n",
    "            if not instructor:\n",
    "                try:\n",
    "                    instructor = driver.find_element(By.CLASS_NAME, \"mentor-name\").text\n",
    "                except NoSuchElementException:\n",
    "                    instructor = None\n",
    "            \n",
    "            complete_data = [title,instructor,'','프로그래머스',url,price,rating,thumbnail_url,enrollment_count,','.join(courses[title])]\n",
    "\n",
    "            # 파일에 쓰기\n",
    "            cssWriter.writerow(complete_data)\n",
    "            driver.back()\n",
    "        \n",
    "        next_btn = driver.find_element(By.XPATH, '//*[@id=\"edu-service-app-main\"]/div/div[2]/div/div/section[2]/div/button[3]')\n",
    "        \n",
    "        # 다음 페이지 없으면 끝\n",
    "        if not next_btn.is_enabled():\n",
    "            break\n",
    "        next_btn.click()\n",
    "        time.sleep(1)\n",
    "\n",
    "    f.close()"
   ]
  },
  {
   "cell_type": "code",
   "execution_count": null,
   "id": "22d5c189",
   "metadata": {},
   "outputs": [],
   "source": []
  }
 ],
 "metadata": {
  "kernelspec": {
   "display_name": "Python 3 (ipykernel)",
   "language": "python",
   "name": "python3"
  },
  "language_info": {
   "codemirror_mode": {
    "name": "ipython",
    "version": 3
   },
   "file_extension": ".py",
   "mimetype": "text/x-python",
   "name": "python",
   "nbconvert_exporter": "python",
   "pygments_lexer": "ipython3",
   "version": "3.11.3"
  }
 },
 "nbformat": 4,
 "nbformat_minor": 5
}
